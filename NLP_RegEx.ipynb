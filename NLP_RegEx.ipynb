{
  "nbformat": 4,
  "nbformat_minor": 0,
  "metadata": {
    "colab": {
      "provenance": []
    },
    "kernelspec": {
      "name": "python3",
      "display_name": "Python 3"
    },
    "language_info": {
      "name": "python"
    }
  },
  "cells": [
    {
      "cell_type": "code",
      "execution_count": null,
      "metadata": {
        "id": "lgQ7T2kGwuVt"
      },
      "outputs": [],
      "source": [
        "#NLP"
      ]
    },
    {
      "cell_type": "code",
      "source": [
        "import re"
      ],
      "metadata": {
        "id": "X8SFJDxx60xn"
      },
      "execution_count": null,
      "outputs": []
    },
    {
      "cell_type": "code",
      "source": [
        "chat1 = \"you ask lot of question and order is 1234567890 & abc@xyz.com & 1234447891\"\n",
        "chat2 = \"here is it order number -- 1234567890 & email is def@xyz.com\"\n",
        "chat3 = \"Hey man take my number , order num - 123456 & phone is (123)-456-7890 here we go Gmail is ddd@xyz.com\""
      ],
      "metadata": {
        "id": "iHQBZzJn69jL"
      },
      "execution_count": null,
      "outputs": []
    },
    {
      "cell_type": "code",
      "source": [
        "pattern = '\\d{10}|\\(\\d{3}\\)-\\d{3}-\\d{4}'\n",
        "matches = re.findall(pattern,chat1)\n",
        "print(matches)"
      ],
      "metadata": {
        "colab": {
          "base_uri": "https://localhost:8080/"
        },
        "id": "VCC0Ik8x88v4",
        "outputId": "e996de8f-bdc2-4385-bdb3-9f37ded7b66c"
      },
      "execution_count": null,
      "outputs": [
        {
          "output_type": "stream",
          "name": "stdout",
          "text": [
            "['1234567890', '1234447891']\n"
          ]
        }
      ]
    },
    {
      "cell_type": "code",
      "source": [
        "pattern = '\\d{10}|\\(\\d{3}\\)-\\d{3}-\\d{4}'\n",
        "matches = re.findall(pattern,chat3)\n",
        "print(matches)"
      ],
      "metadata": {
        "colab": {
          "base_uri": "https://localhost:8080/"
        },
        "id": "SFm4okQR9FeF",
        "outputId": "2f16acbe-2027-421c-b9b9-881b131d9d48"
      },
      "execution_count": null,
      "outputs": [
        {
          "output_type": "stream",
          "name": "stdout",
          "text": [
            "['(123)-456-7890']\n"
          ]
        }
      ]
    },
    {
      "cell_type": "code",
      "source": [
        "pattern2='[0-9a-zA-Z_]*@[0-9a-zA-Z_]*\\.com'\n",
        "matches2 = re.findall(pattern2,chat2)\n",
        "matches2"
      ],
      "metadata": {
        "colab": {
          "base_uri": "https://localhost:8080/"
        },
        "id": "TvDa9SQo_H68",
        "outputId": "92c423df-175d-43f2-ac6d-3ae74a73c6e2"
      },
      "execution_count": null,
      "outputs": [
        {
          "output_type": "execute_result",
          "data": {
            "text/plain": [
              "['def@xyz.com']"
            ]
          },
          "metadata": {},
          "execution_count": 16
        }
      ]
    },
    {
      "cell_type": "code",
      "source": [
        "pattern3 = 'order[^\\d]*(\\d*)'\n",
        "matches3 = re.findall(pattern3,chat1)\n",
        "print(matches3)"
      ],
      "metadata": {
        "colab": {
          "base_uri": "https://localhost:8080/"
        },
        "id": "h7h8XeYZAmrO",
        "outputId": "e930598c-07ca-4ae4-edc3-f2fec0558fde"
      },
      "execution_count": null,
      "outputs": [
        {
          "output_type": "stream",
          "name": "stdout",
          "text": [
            "['1234567890']\n"
          ]
        }
      ]
    },
    {
      "cell_type": "code",
      "source": [],
      "metadata": {
        "id": "FsNCQk2_CLsp"
      },
      "execution_count": null,
      "outputs": []
    }
  ]
}