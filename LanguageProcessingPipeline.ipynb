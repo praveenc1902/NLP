{
  "nbformat": 4,
  "nbformat_minor": 0,
  "metadata": {
    "colab": {
      "provenance": []
    },
    "kernelspec": {
      "name": "python3",
      "display_name": "Python 3"
    },
    "language_info": {
      "name": "python"
    }
  },
  "cells": [
    {
      "cell_type": "code",
      "execution_count": 1,
      "metadata": {
        "id": "CU9xqk1nahqn"
      },
      "outputs": [],
      "source": [
        "import spacy\n",
        "nlp = spacy.load('en_core_web_sm')"
      ]
    },
    {
      "cell_type": "code",
      "source": [
        "nlp.pipeline"
      ],
      "metadata": {
        "colab": {
          "base_uri": "https://localhost:8080/"
        },
        "id": "U1X8ZJZPatQj",
        "outputId": "309579f7-915e-47ad-c4dd-a3f63f718329"
      },
      "execution_count": 2,
      "outputs": [
        {
          "output_type": "execute_result",
          "data": {
            "text/plain": [
              "[('tok2vec', <spacy.pipeline.tok2vec.Tok2Vec at 0x7a59ef267ac0>),\n",
              " ('tagger', <spacy.pipeline.tagger.Tagger at 0x7a59ef266ec0>),\n",
              " ('parser', <spacy.pipeline.dep_parser.DependencyParser at 0x7a59ef3435a0>),\n",
              " ('attribute_ruler',\n",
              "  <spacy.pipeline.attributeruler.AttributeRuler at 0x7a59ef2a00c0>),\n",
              " ('lemmatizer',\n",
              "  <spacy.lang.en.lemmatizer.EnglishLemmatizer at 0x7a59ef06ee00>),\n",
              " ('ner', <spacy.pipeline.ner.EntityRecognizer at 0x7a59ef343610>)]"
            ]
          },
          "metadata": {},
          "execution_count": 2
        }
      ]
    },
    {
      "cell_type": "code",
      "source": [
        "#we have piples above\n",
        "nlpbl = spacy.blank('en')\n",
        "nlpbl.pipeline\n",
        "#but here, we dont have any pipelines"
      ],
      "metadata": {
        "id": "GAHawlqxbIo2",
        "colab": {
          "base_uri": "https://localhost:8080/"
        },
        "outputId": "cb5fa04d-d1aa-48aa-892a-6aa7aac32378"
      },
      "execution_count": 4,
      "outputs": [
        {
          "output_type": "execute_result",
          "data": {
            "text/plain": [
              "[]"
            ]
          },
          "metadata": {},
          "execution_count": 4
        }
      ]
    },
    {
      "cell_type": "code",
      "source": [
        "doc = nlp(\"Captian america ate 100$ of samosa. Then he said I can do it all day\")\n",
        "for token in doc:\n",
        "  print(token, \" | \", token.pos_ , \" | \",token.lemma_)"
      ],
      "metadata": {
        "colab": {
          "base_uri": "https://localhost:8080/"
        },
        "id": "O_a_sJBmUoac",
        "outputId": "b6a6c85c-9acf-4f4f-de16-cba32c7892a1"
      },
      "execution_count": 5,
      "outputs": [
        {
          "output_type": "stream",
          "name": "stdout",
          "text": [
            "Captian  |  PROPN  |  Captian\n",
            "america  |  PROPN  |  america\n",
            "ate  |  VERB  |  eat\n",
            "100  |  NUM  |  100\n",
            "$  |  NUM  |  $\n",
            "of  |  ADP  |  of\n",
            "samosa  |  PROPN  |  samosa\n",
            ".  |  PUNCT  |  .\n",
            "Then  |  ADV  |  then\n",
            "he  |  PRON  |  he\n",
            "said  |  VERB  |  say\n",
            "I  |  PRON  |  I\n",
            "can  |  AUX  |  can\n",
            "do  |  VERB  |  do\n",
            "it  |  PRON  |  it\n",
            "all  |  DET  |  all\n",
            "day  |  NOUN  |  day\n"
          ]
        }
      ]
    },
    {
      "cell_type": "code",
      "source": [
        "source_nlp = spacy.load('en_core_web_sm')\n",
        "nlp = spacy.blank('en')\n",
        "nlp.add_pipe('ner',source=source_nlp)\n",
        "doc = nlp('Telse Inc is going to acquire Twitter for 45 billion $')\n",
        "for token in doc.ents:\n",
        "  print(token, token.label_,spacy.explain(token.label_))\n"
      ],
      "metadata": {
        "colab": {
          "base_uri": "https://localhost:8080/"
        },
        "id": "KZEpluStVZ9D",
        "outputId": "b723e613-c6de-4076-c11e-e9f5c8d77110"
      },
      "execution_count": 6,
      "outputs": [
        {
          "output_type": "stream",
          "name": "stdout",
          "text": [
            "Telse Inc ORG Companies, agencies, institutions, etc.\n",
            "Twitter PRODUCT Objects, vehicles, foods, etc. (not services)\n",
            "45 billion $ MONEY Monetary values, including unit\n"
          ]
        }
      ]
    },
    {
      "cell_type": "code",
      "source": [],
      "metadata": {
        "id": "nbUVSh3rXrZZ"
      },
      "execution_count": null,
      "outputs": []
    }
  ]
}