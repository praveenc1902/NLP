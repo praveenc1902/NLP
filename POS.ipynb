{
  "nbformat": 4,
  "nbformat_minor": 0,
  "metadata": {
    "colab": {
      "provenance": []
    },
    "kernelspec": {
      "name": "python3",
      "display_name": "Python 3"
    },
    "language_info": {
      "name": "python"
    }
  },
  "cells": [
    {
      "cell_type": "code",
      "execution_count": 1,
      "metadata": {
        "id": "a-IEljwUgY4y"
      },
      "outputs": [],
      "source": [
        "import spacy"
      ]
    },
    {
      "cell_type": "code",
      "source": [
        "nlp = spacy.load('en_core_web_sm')\n",
        "doc = nlp('Elon flew to mars yesterday. He carried biryani masala yesterday')\n",
        "for token in doc:\n",
        "  print(token, \" | \", token.pos_ , \" | \",spacy.explain(token.pos_), \" | \",token.tag_,\" | \",spacy.explain(token.tag_))"
      ],
      "metadata": {
        "colab": {
          "base_uri": "https://localhost:8080/"
        },
        "id": "5FZBpUVpge7A",
        "outputId": "7ae4a2e4-48f7-43d9-9076-327b5d2386e7"
      },
      "execution_count": 4,
      "outputs": [
        {
          "output_type": "stream",
          "name": "stdout",
          "text": [
            "Elon  |  PROPN  |  proper noun  |  NNP  |  noun, proper singular\n",
            "flew  |  VERB  |  verb  |  VBD  |  verb, past tense\n",
            "to  |  ADP  |  adposition  |  IN  |  conjunction, subordinating or preposition\n",
            "mars  |  NOUN  |  noun  |  NNS  |  noun, plural\n",
            "yesterday  |  NOUN  |  noun  |  NN  |  noun, singular or mass\n",
            ".  |  PUNCT  |  punctuation  |  .  |  punctuation mark, sentence closer\n",
            "He  |  PRON  |  pronoun  |  PRP  |  pronoun, personal\n",
            "carried  |  VERB  |  verb  |  VBD  |  verb, past tense\n",
            "biryani  |  ADJ  |  adjective  |  JJ  |  adjective (English), other noun-modifier (Chinese)\n",
            "masala  |  NOUN  |  noun  |  NN  |  noun, singular or mass\n",
            "yesterday  |  NOUN  |  noun  |  NN  |  noun, singular or mass\n"
          ]
        }
      ]
    },
    {
      "cell_type": "code",
      "source": [
        "doc = nlp('He quits the job')\n",
        "print(doc[1], \" | \", doc[1].pos_ , \" | \",spacy.explain(doc[1].pos_), \" | \",doc[1].tag_,\" | \",spacy.explain(doc[1].tag_))"
      ],
      "metadata": {
        "colab": {
          "base_uri": "https://localhost:8080/"
        },
        "id": "ja3EDRnAg2fs",
        "outputId": "d35d921c-2f7c-448e-be5e-5c9474fa12bc"
      },
      "execution_count": 6,
      "outputs": [
        {
          "output_type": "stream",
          "name": "stdout",
          "text": [
            "quits  |  VERB  |  verb  |  VBZ  |  verb, 3rd person singular present\n"
          ]
        }
      ]
    },
    {
      "cell_type": "code",
      "source": [
        "doc = nlp('He quit the job')\n",
        "print(doc[1], \" | \", doc[1].pos_ , \" | \",spacy.explain(doc[1].pos_), \" | \",doc[1].tag_,\" | \",spacy.explain(doc[1].tag_))"
      ],
      "metadata": {
        "colab": {
          "base_uri": "https://localhost:8080/"
        },
        "id": "FdI4k7zwihjt",
        "outputId": "7ec3e00b-ceea-4735-a2a9-fbdcec1593dd"
      },
      "execution_count": 7,
      "outputs": [
        {
          "output_type": "stream",
          "name": "stdout",
          "text": [
            "quit  |  VERB  |  verb  |  VBD  |  verb, past tense\n"
          ]
        }
      ]
    },
    {
      "cell_type": "code",
      "source": [
        "earnings_text=\"\"\"Microsoft Corp. today announced the following results for the quarter ended December 31, 2021, as compared to the corresponding period of last fiscal year:\n",
        "\n",
        "·         Revenue was $51.7 billion and increased 20%\n",
        "·         Operating income was $22.2 billion and increased 24%\n",
        "·         Net income was $18.8 billion and increased 21%\n",
        "·         Diluted earnings per share was $2.48 and increased 22%\n",
        "“Digital technology is the most malleable resource at the world’s disposal to overcome constraints and reimagine everyday work and life,” said Satya Nadella, chairman and chief executive officer of Microsoft. “As tech as a percentage of global GDP continues to increase, we are innovating and investing across diverse and growing markets, with a common underlying technology stack and an operating model that reinforces a common strategy, culture, and sense of purpose.”\n",
        "“Solid commercial execution, represented by strong bookings growth driven by long-term Azure commitments, increased Microsoft Cloud revenue to $22.1 billion, up 32% year over year” said Amy Hood, executive vice president and chief financial officer of Microsoft.\"\"\"\n"
      ],
      "metadata": {
        "id": "7briMHUgijue"
      },
      "execution_count": 8,
      "outputs": []
    },
    {
      "cell_type": "code",
      "source": [
        "doc = nlp(earnings_text)\n",
        "for token in doc:\n",
        "  if token.pos_ not in [\"SPACE\", \"PUNCT\", \"X\"]:\n",
        "    print(token , ' | ',token.pos_)"
      ],
      "metadata": {
        "colab": {
          "base_uri": "https://localhost:8080/"
        },
        "id": "kXhdJv3PkWKD",
        "outputId": "99a800f0-35a4-44e5-c58f-81fc459bfb0d"
      },
      "execution_count": 9,
      "outputs": [
        {
          "output_type": "stream",
          "name": "stdout",
          "text": [
            "Microsoft  |  PROPN\n",
            "Corp.  |  PROPN\n",
            "today  |  NOUN\n",
            "announced  |  VERB\n",
            "the  |  DET\n",
            "following  |  VERB\n",
            "results  |  NOUN\n",
            "for  |  ADP\n",
            "the  |  DET\n",
            "quarter  |  NOUN\n",
            "ended  |  VERB\n",
            "December  |  PROPN\n",
            "31  |  NUM\n",
            "2021  |  NUM\n",
            "as  |  SCONJ\n",
            "compared  |  VERB\n",
            "to  |  ADP\n",
            "the  |  DET\n",
            "corresponding  |  ADJ\n",
            "period  |  NOUN\n",
            "of  |  ADP\n",
            "last  |  ADJ\n",
            "fiscal  |  ADJ\n",
            "year  |  NOUN\n",
            "Revenue  |  NOUN\n",
            "was  |  AUX\n",
            "$  |  SYM\n",
            "51.7  |  NUM\n",
            "billion  |  NUM\n",
            "and  |  CCONJ\n",
            "increased  |  VERB\n",
            "20  |  NUM\n",
            "%  |  NOUN\n",
            "Operating  |  VERB\n",
            "income  |  NOUN\n",
            "was  |  AUX\n",
            "$  |  SYM\n",
            "22.2  |  NUM\n",
            "billion  |  NUM\n",
            "and  |  CCONJ\n",
            "increased  |  VERB\n",
            "24  |  NUM\n",
            "%  |  NOUN\n",
            "Net  |  ADJ\n",
            "income  |  NOUN\n",
            "was  |  AUX\n",
            "$  |  SYM\n",
            "18.8  |  NUM\n",
            "billion  |  NUM\n",
            "and  |  CCONJ\n",
            "increased  |  VERB\n",
            "21  |  NUM\n",
            "%  |  NOUN\n",
            "Diluted  |  VERB\n",
            "earnings  |  NOUN\n",
            "per  |  ADP\n",
            "share  |  NOUN\n",
            "was  |  AUX\n",
            "$  |  SYM\n",
            "2.48  |  NUM\n",
            "and  |  CCONJ\n",
            "increased  |  VERB\n",
            "22  |  NUM\n",
            "%  |  NOUN\n",
            "Digital  |  PROPN\n",
            "technology  |  NOUN\n",
            "is  |  AUX\n",
            "the  |  DET\n",
            "most  |  ADV\n",
            "malleable  |  ADJ\n",
            "resource  |  NOUN\n",
            "at  |  ADP\n",
            "the  |  DET\n",
            "world  |  NOUN\n",
            "’s  |  PART\n",
            "disposal  |  NOUN\n",
            "to  |  PART\n",
            "overcome  |  VERB\n",
            "constraints  |  NOUN\n",
            "and  |  CCONJ\n",
            "reimagine  |  VERB\n",
            "everyday  |  ADJ\n",
            "work  |  NOUN\n",
            "and  |  CCONJ\n",
            "life  |  NOUN\n",
            "said  |  VERB\n",
            "Satya  |  PROPN\n",
            "Nadella  |  PROPN\n",
            "chairman  |  NOUN\n",
            "and  |  CCONJ\n",
            "chief  |  ADJ\n",
            "executive  |  ADJ\n",
            "officer  |  NOUN\n",
            "of  |  ADP\n",
            "Microsoft  |  PROPN\n",
            "As  |  ADV\n",
            "tech  |  NOUN\n",
            "as  |  ADP\n",
            "a  |  DET\n",
            "percentage  |  NOUN\n",
            "of  |  ADP\n",
            "global  |  ADJ\n",
            "GDP  |  PROPN\n",
            "continues  |  VERB\n",
            "to  |  PART\n",
            "increase  |  VERB\n",
            "we  |  PRON\n",
            "are  |  AUX\n",
            "innovating  |  VERB\n",
            "and  |  CCONJ\n",
            "investing  |  VERB\n",
            "across  |  ADP\n",
            "diverse  |  ADJ\n",
            "and  |  CCONJ\n",
            "growing  |  VERB\n",
            "markets  |  NOUN\n",
            "with  |  ADP\n",
            "a  |  DET\n",
            "common  |  ADJ\n",
            "underlying  |  VERB\n",
            "technology  |  NOUN\n",
            "stack  |  NOUN\n",
            "and  |  CCONJ\n",
            "an  |  DET\n",
            "operating  |  NOUN\n",
            "model  |  NOUN\n",
            "that  |  PRON\n",
            "reinforces  |  VERB\n",
            "a  |  DET\n",
            "common  |  ADJ\n",
            "strategy  |  NOUN\n",
            "culture  |  NOUN\n",
            "and  |  CCONJ\n",
            "sense  |  NOUN\n",
            "of  |  ADP\n",
            "purpose  |  NOUN\n",
            "Solid  |  ADJ\n",
            "commercial  |  ADJ\n",
            "execution  |  NOUN\n",
            "represented  |  VERB\n",
            "by  |  ADP\n",
            "strong  |  ADJ\n",
            "bookings  |  NOUN\n",
            "growth  |  NOUN\n",
            "driven  |  VERB\n",
            "by  |  ADP\n",
            "long  |  ADJ\n",
            "term  |  NOUN\n",
            "Azure  |  ADJ\n",
            "commitments  |  NOUN\n",
            "increased  |  VERB\n",
            "Microsoft  |  PROPN\n",
            "Cloud  |  PROPN\n",
            "revenue  |  NOUN\n",
            "to  |  ADP\n",
            "$  |  SYM\n",
            "22.1  |  NUM\n",
            "billion  |  NUM\n",
            "up  |  ADV\n",
            "32  |  NUM\n",
            "%  |  NOUN\n",
            "year  |  NOUN\n",
            "over  |  ADP\n",
            "year  |  NOUN\n",
            "said  |  VERB\n",
            "Amy  |  PROPN\n",
            "Hood  |  PROPN\n",
            "executive  |  ADJ\n",
            "vice  |  NOUN\n",
            "president  |  NOUN\n",
            "and  |  CCONJ\n",
            "chief  |  ADJ\n",
            "financial  |  ADJ\n",
            "officer  |  NOUN\n",
            "of  |  ADP\n",
            "Microsoft  |  PROPN\n"
          ]
        }
      ]
    },
    {
      "cell_type": "code",
      "source": [
        "doc.count_by(spacy.attrs.POS)"
      ],
      "metadata": {
        "colab": {
          "base_uri": "https://localhost:8080/"
        },
        "id": "JAD01lFOkr97",
        "outputId": "ef1eb46d-aa04-4fa4-d8ff-fc3e9049c6a4"
      },
      "execution_count": 10,
      "outputs": [
        {
          "output_type": "execute_result",
          "data": {
            "text/plain": [
              "{96: 13,\n",
              " 92: 46,\n",
              " 100: 24,\n",
              " 90: 9,\n",
              " 85: 16,\n",
              " 93: 16,\n",
              " 97: 27,\n",
              " 98: 1,\n",
              " 84: 20,\n",
              " 103: 10,\n",
              " 87: 6,\n",
              " 99: 5,\n",
              " 89: 12,\n",
              " 86: 3,\n",
              " 94: 3,\n",
              " 95: 2}"
            ]
          },
          "metadata": {},
          "execution_count": 10
        }
      ]
    },
    {
      "cell_type": "code",
      "source": [
        "doc.vocab[96].text"
      ],
      "metadata": {
        "colab": {
          "base_uri": "https://localhost:8080/",
          "height": 35
        },
        "id": "ON25zVt-k8X1",
        "outputId": "7a889b52-7c91-4fdd-f51e-aad237ff379b"
      },
      "execution_count": 11,
      "outputs": [
        {
          "output_type": "execute_result",
          "data": {
            "text/plain": [
              "'PROPN'"
            ],
            "application/vnd.google.colaboratory.intrinsic+json": {
              "type": "string"
            }
          },
          "metadata": {},
          "execution_count": 11
        }
      ]
    },
    {
      "cell_type": "code",
      "source": [
        "doc.vocab[103].text"
      ],
      "metadata": {
        "colab": {
          "base_uri": "https://localhost:8080/",
          "height": 35
        },
        "id": "Vxnwtn1ulDnh",
        "outputId": "8af518f7-b2c9-43d2-cbf1-0ab14a46b06a"
      },
      "execution_count": 12,
      "outputs": [
        {
          "output_type": "execute_result",
          "data": {
            "text/plain": [
              "'SPACE'"
            ],
            "application/vnd.google.colaboratory.intrinsic+json": {
              "type": "string"
            }
          },
          "metadata": {},
          "execution_count": 12
        }
      ]
    },
    {
      "cell_type": "code",
      "source": [
        "counts = doc.count_by(spacy.attrs.POS)\n",
        "for i,j in counts.items():\n",
        "  print(doc.vocab[i].text,j)"
      ],
      "metadata": {
        "colab": {
          "base_uri": "https://localhost:8080/"
        },
        "id": "NhasgbIHlGEM",
        "outputId": "4bdcb480-ce8b-4028-b9ab-3e8e04a07ca5"
      },
      "execution_count": 13,
      "outputs": [
        {
          "output_type": "stream",
          "name": "stdout",
          "text": [
            "PROPN 13\n",
            "NOUN 46\n",
            "VERB 24\n",
            "DET 9\n",
            "ADP 16\n",
            "NUM 16\n",
            "PUNCT 27\n",
            "SCONJ 1\n",
            "ADJ 20\n",
            "SPACE 10\n",
            "AUX 6\n",
            "SYM 5\n",
            "CCONJ 12\n",
            "ADV 3\n",
            "PART 3\n",
            "PRON 2\n"
          ]
        }
      ]
    },
    {
      "cell_type": "code",
      "source": [
        "story =\"\"\"\n",
        "Inflation rose again in April, continuing a climb that has pushed consumers to the brink and is threatening the economic expansion, the Bureau of Labor Statistics reported Wednesday.\n",
        "\n",
        "The consumer price index, a broad-based measure of prices for goods and services, increased 8.3% from a year ago, higher than the Dow Jones estimate for an 8.1% gain. That represented a slight ease from March’s peak but was still close to the highest level since the summer of 1982.\n",
        "\n",
        "Removing volatile food and energy prices, so-called core CPI still rose 6.2%, against expectations for a 6% gain, clouding hopes that inflation had peaked in March.\n",
        "\n",
        "The month-over-month gains also were higher than expectations — 0.3% on headline CPI versus the 0.2% estimate and a 0.6% increase for core, against the outlook for a 0.4% gain.\n",
        "\n",
        "The price gains also meant that workers continued to lose ground. Real wages adjusted for inflation decreased 0.1% on the month despite a nominal increase of 0.3% in average hourly earnings. Over the past year, real earnings have dropped 2.6% even though average hourly earnings are up 5.5%.\n",
        "\n",
        "Inflation has been the single biggest threat to a recovery that began early in the Covid pandemic and saw the economy in 2021 stage its biggest single-year growth level since 1984. Rising prices at the pump and in grocery stores have been one problem, but inflation has spread beyond those two areas into housing, auto sales and a host of other areas.\n",
        "\n",
        "Federal Reserve officials have responded to the problem with two interest rate hikes so far this year and pledges of more until inflation comes down to the central bank’s 2% goal. However, Wednesday’s data shows that the Fed has a big job ahead.\n",
        "\n",
        "Credits: cnbc.com\n",
        "\"\"\""
      ],
      "metadata": {
        "id": "K3I6WMVQlZqk"
      },
      "execution_count": 14,
      "outputs": []
    },
    {
      "cell_type": "code",
      "source": [
        "doc = nlp(story)\n",
        "for token in doc:\n",
        "  if token.pos_ =='NOUN':\n",
        "    # print(token)\n",
        "    pass\n",
        "doc.count_by(spacy.attrs.POS)"
      ],
      "metadata": {
        "colab": {
          "base_uri": "https://localhost:8080/"
        },
        "id": "Cxkfx6-Blymn",
        "outputId": "6ded4a48-83e8-493c-d486-0d22491e9fd8"
      },
      "execution_count": 19,
      "outputs": [
        {
          "output_type": "execute_result",
          "data": {
            "text/plain": [
              "{103: 9,\n",
              " 92: 96,\n",
              " 100: 27,\n",
              " 86: 15,\n",
              " 85: 39,\n",
              " 96: 16,\n",
              " 97: 32,\n",
              " 90: 34,\n",
              " 95: 4,\n",
              " 87: 13,\n",
              " 89: 10,\n",
              " 84: 23,\n",
              " 93: 19,\n",
              " 94: 4,\n",
              " 98: 8,\n",
              " 101: 1}"
            ]
          },
          "metadata": {},
          "execution_count": 19
        }
      ]
    }
  ]
}