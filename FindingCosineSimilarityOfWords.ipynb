{
  "nbformat": 4,
  "nbformat_minor": 0,
  "metadata": {
    "colab": {
      "provenance": []
    },
    "kernelspec": {
      "name": "python3",
      "display_name": "Python 3"
    },
    "language_info": {
      "name": "python"
    }
  },
  "cells": [
    {
      "cell_type": "code",
      "source": [
        "import spacy"
      ],
      "metadata": {
        "id": "oX9RO3LIoNxk"
      },
      "execution_count": 4,
      "outputs": []
    },
    {
      "cell_type": "code",
      "source": [
        "!python -m spacy download en_core_web_lg"
      ],
      "metadata": {
        "colab": {
          "base_uri": "https://localhost:8080/"
        },
        "id": "zh6i8X_LqN4A",
        "outputId": "edb0d7a4-7229-43b2-eb43-08fe9d97df2e"
      },
      "execution_count": 6,
      "outputs": [
        {
          "output_type": "stream",
          "name": "stdout",
          "text": [
            "2023-11-10 00:37:06.449400: E tensorflow/compiler/xla/stream_executor/cuda/cuda_dnn.cc:9342] Unable to register cuDNN factory: Attempting to register factory for plugin cuDNN when one has already been registered\n",
            "2023-11-10 00:37:06.449478: E tensorflow/compiler/xla/stream_executor/cuda/cuda_fft.cc:609] Unable to register cuFFT factory: Attempting to register factory for plugin cuFFT when one has already been registered\n",
            "2023-11-10 00:37:06.449526: E tensorflow/compiler/xla/stream_executor/cuda/cuda_blas.cc:1518] Unable to register cuBLAS factory: Attempting to register factory for plugin cuBLAS when one has already been registered\n",
            "2023-11-10 00:37:08.140160: W tensorflow/compiler/tf2tensorrt/utils/py_utils.cc:38] TF-TRT Warning: Could not find TensorRT\n",
            "Collecting en-core-web-lg==3.6.0\n",
            "  Downloading https://github.com/explosion/spacy-models/releases/download/en_core_web_lg-3.6.0/en_core_web_lg-3.6.0-py3-none-any.whl (587.7 MB)\n",
            "\u001b[2K     \u001b[90m━━━━━━━━━━━━━━━━━━━━━━━━━━━━━━━━━━━━━━━━\u001b[0m \u001b[32m587.7/587.7 MB\u001b[0m \u001b[31m2.2 MB/s\u001b[0m eta \u001b[36m0:00:00\u001b[0m\n",
            "\u001b[?25hRequirement already satisfied: spacy<3.7.0,>=3.6.0 in /usr/local/lib/python3.10/dist-packages (from en-core-web-lg==3.6.0) (3.6.1)\n",
            "Requirement already satisfied: spacy-legacy<3.1.0,>=3.0.11 in /usr/local/lib/python3.10/dist-packages (from spacy<3.7.0,>=3.6.0->en-core-web-lg==3.6.0) (3.0.12)\n",
            "Requirement already satisfied: spacy-loggers<2.0.0,>=1.0.0 in /usr/local/lib/python3.10/dist-packages (from spacy<3.7.0,>=3.6.0->en-core-web-lg==3.6.0) (1.0.5)\n",
            "Requirement already satisfied: murmurhash<1.1.0,>=0.28.0 in /usr/local/lib/python3.10/dist-packages (from spacy<3.7.0,>=3.6.0->en-core-web-lg==3.6.0) (1.0.10)\n",
            "Requirement already satisfied: cymem<2.1.0,>=2.0.2 in /usr/local/lib/python3.10/dist-packages (from spacy<3.7.0,>=3.6.0->en-core-web-lg==3.6.0) (2.0.8)\n",
            "Requirement already satisfied: preshed<3.1.0,>=3.0.2 in /usr/local/lib/python3.10/dist-packages (from spacy<3.7.0,>=3.6.0->en-core-web-lg==3.6.0) (3.0.9)\n",
            "Requirement already satisfied: thinc<8.2.0,>=8.1.8 in /usr/local/lib/python3.10/dist-packages (from spacy<3.7.0,>=3.6.0->en-core-web-lg==3.6.0) (8.1.12)\n",
            "Requirement already satisfied: wasabi<1.2.0,>=0.9.1 in /usr/local/lib/python3.10/dist-packages (from spacy<3.7.0,>=3.6.0->en-core-web-lg==3.6.0) (1.1.2)\n",
            "Requirement already satisfied: srsly<3.0.0,>=2.4.3 in /usr/local/lib/python3.10/dist-packages (from spacy<3.7.0,>=3.6.0->en-core-web-lg==3.6.0) (2.4.8)\n",
            "Requirement already satisfied: catalogue<2.1.0,>=2.0.6 in /usr/local/lib/python3.10/dist-packages (from spacy<3.7.0,>=3.6.0->en-core-web-lg==3.6.0) (2.0.10)\n",
            "Requirement already satisfied: typer<0.10.0,>=0.3.0 in /usr/local/lib/python3.10/dist-packages (from spacy<3.7.0,>=3.6.0->en-core-web-lg==3.6.0) (0.9.0)\n",
            "Requirement already satisfied: pathy>=0.10.0 in /usr/local/lib/python3.10/dist-packages (from spacy<3.7.0,>=3.6.0->en-core-web-lg==3.6.0) (0.10.3)\n",
            "Requirement already satisfied: smart-open<7.0.0,>=5.2.1 in /usr/local/lib/python3.10/dist-packages (from spacy<3.7.0,>=3.6.0->en-core-web-lg==3.6.0) (6.4.0)\n",
            "Requirement already satisfied: tqdm<5.0.0,>=4.38.0 in /usr/local/lib/python3.10/dist-packages (from spacy<3.7.0,>=3.6.0->en-core-web-lg==3.6.0) (4.66.1)\n",
            "Requirement already satisfied: numpy>=1.15.0 in /usr/local/lib/python3.10/dist-packages (from spacy<3.7.0,>=3.6.0->en-core-web-lg==3.6.0) (1.23.5)\n",
            "Requirement already satisfied: requests<3.0.0,>=2.13.0 in /usr/local/lib/python3.10/dist-packages (from spacy<3.7.0,>=3.6.0->en-core-web-lg==3.6.0) (2.31.0)\n",
            "Requirement already satisfied: pydantic!=1.8,!=1.8.1,<3.0.0,>=1.7.4 in /usr/local/lib/python3.10/dist-packages (from spacy<3.7.0,>=3.6.0->en-core-web-lg==3.6.0) (1.10.13)\n",
            "Requirement already satisfied: jinja2 in /usr/local/lib/python3.10/dist-packages (from spacy<3.7.0,>=3.6.0->en-core-web-lg==3.6.0) (3.1.2)\n",
            "Requirement already satisfied: setuptools in /usr/local/lib/python3.10/dist-packages (from spacy<3.7.0,>=3.6.0->en-core-web-lg==3.6.0) (67.7.2)\n",
            "Requirement already satisfied: packaging>=20.0 in /usr/local/lib/python3.10/dist-packages (from spacy<3.7.0,>=3.6.0->en-core-web-lg==3.6.0) (23.2)\n",
            "Requirement already satisfied: langcodes<4.0.0,>=3.2.0 in /usr/local/lib/python3.10/dist-packages (from spacy<3.7.0,>=3.6.0->en-core-web-lg==3.6.0) (3.3.0)\n",
            "Requirement already satisfied: typing-extensions>=4.2.0 in /usr/local/lib/python3.10/dist-packages (from pydantic!=1.8,!=1.8.1,<3.0.0,>=1.7.4->spacy<3.7.0,>=3.6.0->en-core-web-lg==3.6.0) (4.5.0)\n",
            "Requirement already satisfied: charset-normalizer<4,>=2 in /usr/local/lib/python3.10/dist-packages (from requests<3.0.0,>=2.13.0->spacy<3.7.0,>=3.6.0->en-core-web-lg==3.6.0) (3.3.2)\n",
            "Requirement already satisfied: idna<4,>=2.5 in /usr/local/lib/python3.10/dist-packages (from requests<3.0.0,>=2.13.0->spacy<3.7.0,>=3.6.0->en-core-web-lg==3.6.0) (3.4)\n",
            "Requirement already satisfied: urllib3<3,>=1.21.1 in /usr/local/lib/python3.10/dist-packages (from requests<3.0.0,>=2.13.0->spacy<3.7.0,>=3.6.0->en-core-web-lg==3.6.0) (2.0.7)\n",
            "Requirement already satisfied: certifi>=2017.4.17 in /usr/local/lib/python3.10/dist-packages (from requests<3.0.0,>=2.13.0->spacy<3.7.0,>=3.6.0->en-core-web-lg==3.6.0) (2023.7.22)\n",
            "Requirement already satisfied: blis<0.8.0,>=0.7.8 in /usr/local/lib/python3.10/dist-packages (from thinc<8.2.0,>=8.1.8->spacy<3.7.0,>=3.6.0->en-core-web-lg==3.6.0) (0.7.11)\n",
            "Requirement already satisfied: confection<1.0.0,>=0.0.1 in /usr/local/lib/python3.10/dist-packages (from thinc<8.2.0,>=8.1.8->spacy<3.7.0,>=3.6.0->en-core-web-lg==3.6.0) (0.1.3)\n",
            "Requirement already satisfied: click<9.0.0,>=7.1.1 in /usr/local/lib/python3.10/dist-packages (from typer<0.10.0,>=0.3.0->spacy<3.7.0,>=3.6.0->en-core-web-lg==3.6.0) (8.1.7)\n",
            "Requirement already satisfied: MarkupSafe>=2.0 in /usr/local/lib/python3.10/dist-packages (from jinja2->spacy<3.7.0,>=3.6.0->en-core-web-lg==3.6.0) (2.1.3)\n",
            "Installing collected packages: en-core-web-lg\n",
            "Successfully installed en-core-web-lg-3.6.0\n",
            "\u001b[38;5;2m✔ Download and installation successful\u001b[0m\n",
            "You can now load the package via spacy.load('en_core_web_lg')\n"
          ]
        }
      ]
    },
    {
      "cell_type": "code",
      "source": [
        "nlp = spacy.load('en_core_web_lg')"
      ],
      "metadata": {
        "id": "0ygHumHNp_jH"
      },
      "execution_count": 7,
      "outputs": []
    },
    {
      "cell_type": "code",
      "source": [
        "doc = nlp(\"doc cat banana asasad\")\n",
        "for token in doc:\n",
        "  print(token.text,token.has_vector)"
      ],
      "metadata": {
        "colab": {
          "base_uri": "https://localhost:8080/"
        },
        "id": "4R4TJrYsqKdr",
        "outputId": "5923c2b6-ffc8-4b8f-b812-8c97ba7874b2"
      },
      "execution_count": 8,
      "outputs": [
        {
          "output_type": "stream",
          "name": "stdout",
          "text": [
            "doc True\n",
            "cat True\n",
            "banana True\n",
            "asasad False\n"
          ]
        }
      ]
    },
    {
      "cell_type": "code",
      "source": [
        "doc[0].vector"
      ],
      "metadata": {
        "colab": {
          "base_uri": "https://localhost:8080/"
        },
        "id": "K_dTRsvAqyFg",
        "outputId": "76bb7ff2-3954-4f69-aaa9-d533da1632ea"
      },
      "execution_count": 10,
      "outputs": [
        {
          "output_type": "execute_result",
          "data": {
            "text/plain": [
              "array([ 3.5733  , -1.0701  ,  1.3328  , -1.9341  , -2.943   , -0.29299 ,\n",
              "       -0.095703,  0.48949 , -2.67    , -0.075852,  0.72427 ,  1.9119  ,\n",
              "       -2.7964  ,  1.3514  , -0.76845 , -0.27383 ,  3.2634  ,  1.9989  ,\n",
              "       -2.0323  , -0.089052,  0.048448,  0.74785 , -1.6842  , -0.48856 ,\n",
              "       -3.2921  , -1.0132  , -1.0007  , -1.3604  , -0.63414 , -3.1152  ,\n",
              "       -2.8135  ,  0.17769 , -0.44796 ,  1.9569  ,  0.89867 ,  1.0086  ,\n",
              "       -1.5858  , -1.9133  ,  2.4025  , -0.39223 ,  0.83741 , -1.4377  ,\n",
              "       -0.26691 , -2.9472  ,  2.7248  , -0.21865 ,  1.0172  , -1.6572  ,\n",
              "       -2.337   ,  0.64223 ,  1.4816  , -0.60315 ,  1.467   ,  2.5542  ,\n",
              "       -1.8061  ,  1.3516  ,  2.0209  ,  0.84383 , -1.6783  ,  0.11363 ,\n",
              "        3.2186  ,  0.33493 , -3.9545  ,  0.94845 , -1.8087  , -2.48    ,\n",
              "       -2.2772  , -2.184   , -1.0858  , -0.74904 , -0.93553 , -5.3803  ,\n",
              "       -0.57754 , -0.7377  ,  1.6114  , -0.9071  , -0.88438 , -0.53647 ,\n",
              "        0.53814 , -0.25245 , -0.10841 ,  1.0505  , -0.1402  , -0.12741 ,\n",
              "        1.4622  ,  0.31642 ,  3.5863  ,  2.7167  ,  3.3783  ,  0.4039  ,\n",
              "       -2.9517  , -2.5985  ,  2.1075  ,  0.71879 , -0.31565 , -0.17769 ,\n",
              "       -2.2445  ,  1.645   ,  0.50585 , -3.2541  ,  0.17606 ,  1.6779  ,\n",
              "       -0.23888 , -2.6701  ,  0.19572 ,  0.16917 , -0.68895 ,  1.3472  ,\n",
              "       -0.83105 ,  1.0054  ,  0.17126 , -0.7783  ,  3.4049  , -0.49553 ,\n",
              "        1.0477  ,  0.91023 , -1.3846  , -1.489   ,  0.77227 , -0.34503 ,\n",
              "       -0.47078 ,  1.537   , -1.7683  ,  3.5699  , -0.24323 , -2.6726  ,\n",
              "        0.26643 , -0.17693 , -4.7691  , -1.1437  ,  2.9432  ,  1.9985  ,\n",
              "        1.4824  , -0.98125 ,  2.9275  , -1.0715  ,  0.12407 ,  0.10552 ,\n",
              "        0.90087 , -1.9914  , -1.0968  , -0.32216 ,  1.4251  ,  1.1858  ,\n",
              "        0.93321 , -0.099575, -0.012142, -0.80967 ,  0.56351 , -3.4449  ,\n",
              "        0.29412 ,  0.16397 , -1.4384  , -0.96654 , -0.22139 , -4.3875  ,\n",
              "       -1.2085  ,  2.7114  ,  2.018   , -1.2499  , -2.9618  ,  0.99939 ,\n",
              "       -1.6395  , -1.8497  ,  0.41128 , -0.18338 ,  0.30385 ,  0.60176 ,\n",
              "       -0.71747 , -1.6082  ,  1.2926  , -0.78274 , -0.099934,  0.2645  ,\n",
              "        4.4413  , -2.4526  , -2.0346  ,  0.69149 , -2.5927  , -0.17305 ,\n",
              "        0.20305 ,  0.41484 ,  1.0551  , -0.43984 ,  0.054461, -1.9381  ,\n",
              "        0.060792,  1.2089  ,  2.7865  , -1.2153  ,  0.4404  ,  3.477   ,\n",
              "       -1.2776  ,  1.1607  , -0.096811,  0.82027 ,  0.75968 ,  0.24284 ,\n",
              "        0.48273 ,  2.949   , -1.5019  ,  1.61    , -0.74832 , -0.5665  ,\n",
              "        0.89452 ,  2.8064  , -0.53976 , -1.5588  ,  0.76288 ,  1.1032  ,\n",
              "        1.9346  , -0.81455 ,  1.9656  , -1.1126  , -0.65403 ,  0.82522 ,\n",
              "        0.070063, -1.132   ,  1.0589  ,  4.0012  , -2.4122  , -2.6715  ,\n",
              "        0.38653 , -0.21217 ,  4.2138  ,  1.317   ,  2.2273  , -1.7706  ,\n",
              "       -1.3982  , -2.2749  ,  0.19936 , -1.6996  ,  1.5082  , -0.73753 ,\n",
              "       -2.1973  , -1.1342  , -0.61103 ,  0.82281 ,  1.7699  , -0.82978 ,\n",
              "       -2.3333  , -2.3532  ,  1.411   ,  0.11011 , -0.14843 , -2.2028  ,\n",
              "        0.75508 ,  0.43094 ,  0.85287 , -1.4967  ,  0.43716 , -0.54565 ,\n",
              "       -1.1149  , -3.6993  , -2.5269  , -0.040135, -0.34629 ,  1.4847  ,\n",
              "        0.3826  ,  0.095781,  2.0635  , -2.9494  ,  0.96807 ,  2.2367  ,\n",
              "        0.35265 ,  2.9316  , -1.6126  ,  1.5889  ,  0.98143 ,  2.3699  ,\n",
              "       -5.3278  ,  2.9849  , -1.0543  , -0.61606 , -3.021   , -0.21428 ,\n",
              "        1.1312  ,  0.10607 , -2.1885  ,  1.4013  , -2.1632  ,  0.28693 ,\n",
              "       -0.083986,  0.37222 ,  1.7496  ,  1.1089  ,  1.633   ,  1.9648  ,\n",
              "       -3.2948  ,  0.89989 ,  0.33404 ,  0.32715 ,  1.7992  , -0.4529  ,\n",
              "        0.94499 ,  2.7943  ,  2.956   , -0.4186  ,  0.54694 , -0.46099 ],\n",
              "      dtype=float32)"
            ]
          },
          "metadata": {},
          "execution_count": 10
        }
      ]
    },
    {
      "cell_type": "code",
      "source": [
        "token_bread = nlp(\"bread\")\n",
        "token_bread.has_vector"
      ],
      "metadata": {
        "colab": {
          "base_uri": "https://localhost:8080/"
        },
        "id": "oBGRNX_zrHvA",
        "outputId": "58b8e7ad-768f-4fe9-abdd-afeec2ffb9be"
      },
      "execution_count": 12,
      "outputs": [
        {
          "output_type": "execute_result",
          "data": {
            "text/plain": [
              "True"
            ]
          },
          "metadata": {},
          "execution_count": 12
        }
      ]
    },
    {
      "cell_type": "code",
      "source": [
        "token_bread.vector"
      ],
      "metadata": {
        "colab": {
          "base_uri": "https://localhost:8080/"
        },
        "id": "VsKjkNSOrHrf",
        "outputId": "6eb53620-172e-4fc1-a5f9-dbe04b189662"
      },
      "execution_count": 13,
      "outputs": [
        {
          "output_type": "execute_result",
          "data": {
            "text/plain": [
              "array([-2.1260e+00, -4.2692e+00, -7.9904e-01,  1.5811e+00,  2.6300e+00,\n",
              "       -5.6096e+00,  1.6773e+00,  5.7257e+00, -5.3666e+00,  6.0170e-01,\n",
              "        6.2670e+00,  1.0349e+00,  3.2992e+00,  1.7873e+00,  2.2344e+00,\n",
              "       -6.3331e+00,  9.8316e-01, -9.6958e-01,  1.0844e+00, -2.2912e+00,\n",
              "       -3.3732e+00,  2.5687e+00,  5.6621e-01, -2.7560e+00, -2.5407e+00,\n",
              "        1.3260e+00, -4.4180e+00,  3.8633e+00, -2.5972e+00,  1.2347e+00,\n",
              "        4.2847e+00, -2.4904e+00,  9.3384e-01, -1.5534e+00,  3.3076e-01,\n",
              "       -4.1011e+00, -1.2641e-02,  4.2600e+00, -9.5077e-01,  9.2123e-01,\n",
              "       -3.5137e-01,  7.0070e-01,  2.0004e+00,  5.8038e-01,  4.7097e+00,\n",
              "        4.5480e-01, -3.4912e-01,  2.1022e+00, -2.2968e+00, -4.0087e+00,\n",
              "       -3.1960e+00, -1.4585e+00,  5.1237e+00, -4.6956e+00, -4.1237e+00,\n",
              "       -1.3773e+00, -8.5791e-01,  2.5150e+00,  4.5625e+00,  2.0744e+00,\n",
              "        2.4309e+00, -1.5673e+00,  3.6562e+00, -7.8879e-01,  2.7344e+00,\n",
              "        9.6651e-01, -7.0019e+00, -2.3392e+00,  1.6044e+00,  1.3117e+00,\n",
              "       -1.2023e+00,  3.3839e+00, -2.9211e+00,  2.3648e+00, -3.8603e-01,\n",
              "        1.6597e+00, -4.6945e+00,  1.3763e+00,  2.1868e+00, -2.6112e+00,\n",
              "       -5.9549e+00, -1.2826e+00,  1.5707e+00,  2.2658e+00, -1.9748e+00,\n",
              "        3.5204e+00,  4.2247e+00, -3.0849e-01,  2.7008e+00, -3.0297e+00,\n",
              "        3.8421e+00,  3.0964e+00,  3.4938e+00, -6.3437e+00,  2.1439e+00,\n",
              "       -4.0967e+00,  5.1689e+00, -1.0605e+00, -1.3458e+00, -5.3143e+00,\n",
              "       -3.7146e-02, -6.2042e+00,  1.8335e-01, -5.1569e+00,  1.1898e+00,\n",
              "        2.9133e+00, -4.9812e+00,  1.9404e+00, -7.7228e-01, -3.7944e+00,\n",
              "        1.4160e+00, -1.1898e+00, -5.4947e-02,  8.3061e-01,  7.0460e+00,\n",
              "        5.1537e+00,  2.3402e+00, -3.7683e+00,  1.7732e+00,  5.3268e-01,\n",
              "       -1.3543e+00,  1.0313e-01, -1.9336e+00,  1.3415e+00,  5.9706e-01,\n",
              "       -4.6507e+00,  7.7987e-01, -7.2693e+00,  6.2300e+00, -1.0909e+00,\n",
              "       -2.8142e+00,  2.7780e+00,  4.4948e+00, -3.9099e-01, -7.0489e-01,\n",
              "        1.0479e+00, -3.2158e+00, -6.3542e+00,  9.3840e-02, -3.4020e+00,\n",
              "       -1.0503e+00, -1.0624e+00, -3.2737e+00, -2.0712e+00,  5.2742e-01,\n",
              "       -3.4039e-01, -2.5906e+00, -3.0968e-01,  2.8157e-01, -1.9718e+00,\n",
              "       -5.1772e-01,  1.4642e+00, -3.1157e+00,  4.0142e+00,  3.9149e-01,\n",
              "        4.3078e+00,  7.9816e+00,  2.3714e-01,  7.9726e-01, -6.6937e+00,\n",
              "       -3.0585e-01,  1.5462e-01, -2.0142e-01,  8.3269e-01,  6.3578e+00,\n",
              "       -2.5538e+00, -2.6023e+00,  1.1961e+00, -2.7659e-01,  1.0716e+00,\n",
              "       -5.5053e-01,  1.2944e+00,  7.1797e-01,  6.0816e+00, -9.9296e-01,\n",
              "       -2.9370e-02,  7.1808e-01, -1.3984e+00,  3.3786e+00, -1.6457e+00,\n",
              "        7.6552e-01,  3.5401e+00,  3.0240e+00,  1.6387e-01, -3.5823e+00,\n",
              "       -1.2986e+00, -1.3833e+00, -4.1255e+00,  2.5768e+00,  2.3428e+00,\n",
              "       -1.3700e+00,  3.2197e+00, -7.8306e-01,  4.3596e+00,  1.6687e+00,\n",
              "       -5.6499e+00, -3.0651e+00, -3.3438e-01,  2.2905e+00,  2.0919e+00,\n",
              "       -2.6097e+00, -1.5406e+00, -1.6686e+00, -9.1728e-01,  2.7626e+00,\n",
              "       -1.2651e+00, -7.8084e-01,  1.0267e+00,  3.7664e+00,  5.7199e+00,\n",
              "        3.0572e+00,  2.1356e+00, -5.7012e-01,  3.2591e-01,  1.4653e+00,\n",
              "       -3.9874e-01, -1.2697e+00,  5.8314e-01, -6.1736e-01, -7.0863e-01,\n",
              "        3.4501e+00,  3.6098e-01, -1.5018e+00,  4.3129e-02, -1.2609e+00,\n",
              "       -5.6140e+00, -1.0869e+00,  3.1231e+00,  5.2164e+00,  1.6839e+00,\n",
              "        2.8523e-01, -4.6565e+00,  6.5614e-01, -1.5697e+00, -2.3991e+00,\n",
              "        4.0071e+00,  3.8626e-01,  4.8020e+00,  4.7340e-01, -8.2624e-01,\n",
              "        1.0690e+00, -1.1616e+00,  1.4427e+00,  3.0298e+00,  1.1644e-01,\n",
              "        6.6460e-01,  5.2214e-03,  3.8662e+00,  8.6221e-01, -3.7953e+00,\n",
              "       -5.9257e+00,  7.5805e-01, -4.5844e+00, -1.6170e+00,  5.6344e-01,\n",
              "       -2.9060e+00, -1.9101e+00,  5.0515e+00, -2.9732e+00,  3.0460e+00,\n",
              "        4.3514e+00,  8.6091e+00, -2.9094e+00, -1.2126e+00, -1.5690e+00,\n",
              "       -9.2948e-01,  3.8603e+00,  3.2740e+00, -2.6038e+00,  3.7573e+00,\n",
              "        2.9347e+00,  9.5010e-01,  3.0991e-01, -3.8559e+00, -3.8878e+00,\n",
              "       -1.9464e+00,  2.3391e+00,  9.6548e-01,  1.1167e+00, -3.1489e-01,\n",
              "       -1.2282e-01, -4.1789e+00, -1.6211e+00, -2.7794e+00, -1.5756e+00,\n",
              "       -1.3622e+00, -2.4039e+00, -3.0955e+00, -1.0417e+00,  6.8707e-01,\n",
              "        4.3513e+00, -5.0665e-01, -3.4549e-01, -7.3201e+00,  4.9049e-01,\n",
              "       -5.1855e-02,  2.9423e+00,  2.2800e+00,  2.7997e+00, -1.1393e+00],\n",
              "      dtype=float32)"
            ]
          },
          "metadata": {},
          "execution_count": 13
        }
      ]
    },
    {
      "cell_type": "code",
      "source": [
        "token_txt = nlp(\"sandwhich burger bread car\")\n",
        "for token in token_txt:\n",
        "  print(token.text, \"  --  \" ,token.similarity(token_bread))"
      ],
      "metadata": {
        "colab": {
          "base_uri": "https://localhost:8080/"
        },
        "id": "V_hVtJWGrZFf",
        "outputId": "a036a4ec-f6d7-4f79-a124-e48b0dadf072"
      },
      "execution_count": 16,
      "outputs": [
        {
          "output_type": "stream",
          "name": "stdout",
          "text": [
            "sandwhich   --   0.528318513878749\n",
            "burger   --   0.47520687769584247\n",
            "bread   --   0.9999999744752309\n",
            "car   --   0.06451533308853552\n"
          ]
        }
      ]
    },
    {
      "cell_type": "code",
      "source": [
        "king  = nlp.vocab['king'].vector\n",
        "man = nlp.vocab['man'].vector\n",
        "queen = nlp.vocab['queen'].vector\n",
        "women = nlp.vocab['women'].vector"
      ],
      "metadata": {
        "id": "sgg3HEyGrHod"
      },
      "execution_count": 17,
      "outputs": []
    },
    {
      "cell_type": "code",
      "source": [
        "result = king-man + women"
      ],
      "metadata": {
        "id": "2v2b_jZ0rHl7"
      },
      "execution_count": 18,
      "outputs": []
    },
    {
      "cell_type": "code",
      "source": [
        "from sklearn.metrics.pairwise import cosine_similarity"
      ],
      "metadata": {
        "id": "967BaxeZrHjC"
      },
      "execution_count": 19,
      "outputs": []
    },
    {
      "cell_type": "code",
      "source": [
        "cosine_similarity([result],[queen])"
      ],
      "metadata": {
        "colab": {
          "base_uri": "https://localhost:8080/"
        },
        "id": "I6qmbILOtLIX",
        "outputId": "bec88c66-8df0-48a5-c4b5-7aa591820bf0"
      },
      "execution_count": 20,
      "outputs": [
        {
          "output_type": "execute_result",
          "data": {
            "text/plain": [
              "array([[0.36506233]], dtype=float32)"
            ]
          },
          "metadata": {},
          "execution_count": 20
        }
      ]
    },
    {
      "cell_type": "code",
      "source": [],
      "metadata": {
        "id": "1nNcGn_DtRaQ"
      },
      "execution_count": null,
      "outputs": []
    }
  ]
}